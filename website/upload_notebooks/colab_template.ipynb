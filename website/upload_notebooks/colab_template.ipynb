{
    "nbformat": 4,
    "nbformat_minor": 0,
    "metadata": {
      "colab": {
        "name": "GRADIO: Hello World.ipynb",
        "provenance": [],
        "collapsed_sections": []
      },
      "kernelspec": {
        "name": "python3",
        "display_name": "Python 3"
      }
    },
    "cells": [
      {
        "cell_type": "code",
        "metadata": {
          "id": "fJUJLWQ92g6R"
        },
        "source": [
          "!pip install -q gradio"
        ],
        "execution_count": null,
        "outputs": []
      },
      {
        "cell_type": "code",
        "metadata": {
          "id": "e200MmBU2aLT"
        },
        "source": [
          "import gradio\n",
          "\n",
          "gradio.Interface(greet, \"text\", \"text\").launch(share=True)"
        ],
        "execution_count": null,
        "outputs": []
      }
    ]
  }